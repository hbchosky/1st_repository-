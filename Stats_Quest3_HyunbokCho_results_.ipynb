{
 "cells": [
  {
   "cell_type": "markdown",
   "id": "e9534fde",
   "metadata": {},
   "source": [
    "# Quest 03: AARRR 분석/통계분석"
   ]
  },
  {
   "cell_type": "markdown",
   "id": "0bfb563f",
   "metadata": {},
   "source": [
    "데이터사이언티스트의 역할로 비즈니스 지표를 정의하고 분석보고서를 내는 프로젝트\n",
    "\n",
    "AARRR을 포함한 비즈니스 지표는 회사의 상황과 의사결정자의 판단에 따라 적절한 지표를 선택해주는 것이 중요 / AARRR 지표에 더 좋은 옵션 고민해서 결과물 산출"
   ]
  },
  {
   "cell_type": "markdown",
   "id": "02b691b1",
   "metadata": {},
   "source": [
    "### 데이터설명\n",
    "\n",
    "- 데이터 출처: https://archive.ics.uci.edu/dataset/502/online+retail+ii\n",
    "- 컬럼 설명\n",
    "    - `InvoiceNo`: Invoice number. Nominal. A 6-digit integral number uniquely assigned to each transaction. If this code starts with the letter 'c', it indicates a cancellation.\n",
    "    - `StockCode`: Product (item) code. Nominal. A 5-digit integral number uniquely assigned to each distinct product.\n",
    "    - `Description`: Product (item) name. Nominal.\n",
    "    - `Quantity`: The quantities of each product (item) per transaction. Numeric.\n",
    "    - `InvoiceDate`: Invice date and time. Numeric. The day and time when a transaction was generated.\n",
    "    - `UnitPrice`: Unit price. Numeric. Product price per unit in sterling (Â£).\n",
    "    - `CustomerID`: Customer number. Nominal. A 5-digit integral number uniquely assigned to each customer.\n",
    "    - `Country`: Country name. Nominal. The name of the country where a customer resides."
   ]
  },
  {
   "cell_type": "markdown",
   "id": "48d2b76b",
   "metadata": {},
   "source": [
    "### **문제 1: 데이터 로드 및 탐색**\n",
    "\n",
    "- **데이터의 첫 5개 행을 출력**하여 데이터 형식을 확인하세요.\n",
    "- **데이터프레임의 컬럼 정보**와 **결측치 여부**를 확인하고 전처리 전략을 고민해보세요."
   ]
  },
  {
   "cell_type": "code",
   "execution_count": 1,
   "id": "98848cb5",
   "metadata": {},
   "outputs": [
    {
     "name": "stdout",
     "output_type": "stream",
     "text": [
      "Requirement already satisfied: openpyxl in /Users/hb/miniconda3/envs/moduenv/lib/python3.12/site-packages (3.1.5)\n",
      "Requirement already satisfied: et-xmlfile in /Users/hb/miniconda3/envs/moduenv/lib/python3.12/site-packages (from openpyxl) (2.0.0)\n",
      "['Stats_Quest3_HyunbokCho_results.ipynb', 'online_retail_II.xlsx', 'Stats_Quest3_HyunbokCho_results_bk.ipynb', 'online+retail+ii.zip', 'Stats_Quest3_HyunbokCho_results_2nd.ipynb']\n",
      "['Year 2009-2010', 'Year 2010-2011']\n",
      "Year 2009-2010 size : 525461\n",
      "Year 2010-2011 size : 541910\n",
      "total_data size : 1067371\n"
     ]
    }
   ],
   "source": [
    "import pandas as pd\n",
    "import numpy as np\n",
    "import matplotlib.pyplot as plt\n",
    "import seaborn as sns\n",
    "import datetime\n",
    "import warnings\n",
    "warnings.filterwarnings('ignore')\n",
    "import os\n",
    "\n",
    "!pip install openpyxl\n",
    "#github_url = 'https://archive.ics.uci.edu/dataset/502/online+retail+ii'\n",
    "# Download the dataset : online_retail_II.xlsx\n",
    "# !wget https://archive.ics.uci.edu/ml/machine-learning-databases/00352/online_retail_II.xlsx\n",
    "\n",
    "\n",
    "#!wget github_url\n",
    "files = os.listdir()\n",
    "print(files)\n",
    "excel_file = pd.ExcelFile('online_retail_II.xlsx')\n",
    "print(excel_file.sheet_names)\n",
    "#chunk_size = 100000\n",
    "#sheet_200910 = pd.read_excel('online_retail_II.xlsx', sheet_name='Year 2009-2010', chunksize=chunk_size)\n",
    "#sheet_201011 = pd.read_excel('online_retail_II.xlsx', sheet_name='Year 2010-2011', chunksize=chunk_size)\n",
    "sheet_200910 = pd.read_excel('online_retail_II.xlsx', sheet_name='Year 2009-2010')\n",
    "sheet_201011 = pd.read_excel('online_retail_II.xlsx', sheet_name='Year 2010-2011')\n",
    "print(f\"Year 2009-2010 size : {len(sheet_200910)}\") #525461\n",
    "print(f\"Year 2010-2011 size : {len(sheet_201011)}\") #541910\n",
    "\n",
    "#retail_data = pd.read_excel('online_retail_II.xlsx') #525461 : read the first sheet in case of multiple sheets\n",
    "retail_data = pd.concat([sheet_200910, sheet_201011], ignore_index=True)\n",
    "print(f\"total_data size : {len(retail_data)}\")"
   ]
  },
  {
   "cell_type": "code",
   "execution_count": 2,
   "id": "c9dda881",
   "metadata": {},
   "outputs": [
    {
     "data": {
      "text/html": [
       "<div>\n",
       "<style scoped>\n",
       "    .dataframe tbody tr th:only-of-type {\n",
       "        vertical-align: middle;\n",
       "    }\n",
       "\n",
       "    .dataframe tbody tr th {\n",
       "        vertical-align: top;\n",
       "    }\n",
       "\n",
       "    .dataframe thead th {\n",
       "        text-align: right;\n",
       "    }\n",
       "</style>\n",
       "<table border=\"1\" class=\"dataframe\">\n",
       "  <thead>\n",
       "    <tr style=\"text-align: right;\">\n",
       "      <th></th>\n",
       "      <th>Invoice</th>\n",
       "      <th>StockCode</th>\n",
       "      <th>Description</th>\n",
       "      <th>Quantity</th>\n",
       "      <th>InvoiceDate</th>\n",
       "      <th>Price</th>\n",
       "      <th>Customer ID</th>\n",
       "      <th>Country</th>\n",
       "    </tr>\n",
       "  </thead>\n",
       "  <tbody>\n",
       "    <tr>\n",
       "      <th>0</th>\n",
       "      <td>489434</td>\n",
       "      <td>85048</td>\n",
       "      <td>15CM CHRISTMAS GLASS BALL 20 LIGHTS</td>\n",
       "      <td>12</td>\n",
       "      <td>2009-12-01 07:45:00</td>\n",
       "      <td>6.95</td>\n",
       "      <td>13085.0</td>\n",
       "      <td>United Kingdom</td>\n",
       "    </tr>\n",
       "    <tr>\n",
       "      <th>1</th>\n",
       "      <td>489434</td>\n",
       "      <td>79323P</td>\n",
       "      <td>PINK CHERRY LIGHTS</td>\n",
       "      <td>12</td>\n",
       "      <td>2009-12-01 07:45:00</td>\n",
       "      <td>6.75</td>\n",
       "      <td>13085.0</td>\n",
       "      <td>United Kingdom</td>\n",
       "    </tr>\n",
       "    <tr>\n",
       "      <th>2</th>\n",
       "      <td>489434</td>\n",
       "      <td>79323W</td>\n",
       "      <td>WHITE CHERRY LIGHTS</td>\n",
       "      <td>12</td>\n",
       "      <td>2009-12-01 07:45:00</td>\n",
       "      <td>6.75</td>\n",
       "      <td>13085.0</td>\n",
       "      <td>United Kingdom</td>\n",
       "    </tr>\n",
       "    <tr>\n",
       "      <th>3</th>\n",
       "      <td>489434</td>\n",
       "      <td>22041</td>\n",
       "      <td>RECORD FRAME 7\" SINGLE SIZE</td>\n",
       "      <td>48</td>\n",
       "      <td>2009-12-01 07:45:00</td>\n",
       "      <td>2.10</td>\n",
       "      <td>13085.0</td>\n",
       "      <td>United Kingdom</td>\n",
       "    </tr>\n",
       "    <tr>\n",
       "      <th>4</th>\n",
       "      <td>489434</td>\n",
       "      <td>21232</td>\n",
       "      <td>STRAWBERRY CERAMIC TRINKET BOX</td>\n",
       "      <td>24</td>\n",
       "      <td>2009-12-01 07:45:00</td>\n",
       "      <td>1.25</td>\n",
       "      <td>13085.0</td>\n",
       "      <td>United Kingdom</td>\n",
       "    </tr>\n",
       "  </tbody>\n",
       "</table>\n",
       "</div>"
      ],
      "text/plain": [
       "  Invoice StockCode                          Description  Quantity  \\\n",
       "0  489434     85048  15CM CHRISTMAS GLASS BALL 20 LIGHTS        12   \n",
       "1  489434    79323P                   PINK CHERRY LIGHTS        12   \n",
       "2  489434    79323W                  WHITE CHERRY LIGHTS        12   \n",
       "3  489434     22041         RECORD FRAME 7\" SINGLE SIZE         48   \n",
       "4  489434     21232       STRAWBERRY CERAMIC TRINKET BOX        24   \n",
       "\n",
       "          InvoiceDate  Price  Customer ID         Country  \n",
       "0 2009-12-01 07:45:00   6.95      13085.0  United Kingdom  \n",
       "1 2009-12-01 07:45:00   6.75      13085.0  United Kingdom  \n",
       "2 2009-12-01 07:45:00   6.75      13085.0  United Kingdom  \n",
       "3 2009-12-01 07:45:00   2.10      13085.0  United Kingdom  \n",
       "4 2009-12-01 07:45:00   1.25      13085.0  United Kingdom  "
      ]
     },
     "execution_count": 2,
     "metadata": {},
     "output_type": "execute_result"
    }
   ],
   "source": [
    "retail_data.head()"
   ]
  },
  {
   "cell_type": "code",
   "execution_count": 3,
   "id": "8879783c",
   "metadata": {},
   "outputs": [
    {
     "name": "stdout",
     "output_type": "stream",
     "text": [
      "<class 'pandas.core.frame.DataFrame'>\n",
      "RangeIndex: 1067371 entries, 0 to 1067370\n",
      "Data columns (total 8 columns):\n",
      " #   Column       Non-Null Count    Dtype         \n",
      "---  ------       --------------    -----         \n",
      " 0   Invoice      1067371 non-null  object        \n",
      " 1   StockCode    1067371 non-null  object        \n",
      " 2   Description  1062989 non-null  object        \n",
      " 3   Quantity     1067371 non-null  int64         \n",
      " 4   InvoiceDate  1067371 non-null  datetime64[ns]\n",
      " 5   Price        1067371 non-null  float64       \n",
      " 6   Customer ID  824364 non-null   float64       \n",
      " 7   Country      1067371 non-null  object        \n",
      "dtypes: datetime64[ns](1), float64(2), int64(1), object(4)\n",
      "memory usage: 65.1+ MB\n"
     ]
    }
   ],
   "source": [
    "retail_data.info()"
   ]
  },
  {
   "cell_type": "code",
   "execution_count": 4,
   "id": "9c685789",
   "metadata": {},
   "outputs": [
    {
     "data": {
      "text/html": [
       "<div>\n",
       "<style scoped>\n",
       "    .dataframe tbody tr th:only-of-type {\n",
       "        vertical-align: middle;\n",
       "    }\n",
       "\n",
       "    .dataframe tbody tr th {\n",
       "        vertical-align: top;\n",
       "    }\n",
       "\n",
       "    .dataframe thead th {\n",
       "        text-align: right;\n",
       "    }\n",
       "</style>\n",
       "<table border=\"1\" class=\"dataframe\">\n",
       "  <thead>\n",
       "    <tr style=\"text-align: right;\">\n",
       "      <th></th>\n",
       "      <th>Quantity</th>\n",
       "      <th>InvoiceDate</th>\n",
       "      <th>Price</th>\n",
       "      <th>Customer ID</th>\n",
       "    </tr>\n",
       "  </thead>\n",
       "  <tbody>\n",
       "    <tr>\n",
       "      <th>count</th>\n",
       "      <td>1.067371e+06</td>\n",
       "      <td>1067371</td>\n",
       "      <td>1.067371e+06</td>\n",
       "      <td>824364.000000</td>\n",
       "    </tr>\n",
       "    <tr>\n",
       "      <th>mean</th>\n",
       "      <td>9.938898e+00</td>\n",
       "      <td>2011-01-02 21:13:55.394028544</td>\n",
       "      <td>4.649388e+00</td>\n",
       "      <td>15324.638504</td>\n",
       "    </tr>\n",
       "    <tr>\n",
       "      <th>min</th>\n",
       "      <td>-8.099500e+04</td>\n",
       "      <td>2009-12-01 07:45:00</td>\n",
       "      <td>-5.359436e+04</td>\n",
       "      <td>12346.000000</td>\n",
       "    </tr>\n",
       "    <tr>\n",
       "      <th>25%</th>\n",
       "      <td>1.000000e+00</td>\n",
       "      <td>2010-07-09 09:46:00</td>\n",
       "      <td>1.250000e+00</td>\n",
       "      <td>13975.000000</td>\n",
       "    </tr>\n",
       "    <tr>\n",
       "      <th>50%</th>\n",
       "      <td>3.000000e+00</td>\n",
       "      <td>2010-12-07 15:28:00</td>\n",
       "      <td>2.100000e+00</td>\n",
       "      <td>15255.000000</td>\n",
       "    </tr>\n",
       "    <tr>\n",
       "      <th>75%</th>\n",
       "      <td>1.000000e+01</td>\n",
       "      <td>2011-07-22 10:23:00</td>\n",
       "      <td>4.150000e+00</td>\n",
       "      <td>16797.000000</td>\n",
       "    </tr>\n",
       "    <tr>\n",
       "      <th>max</th>\n",
       "      <td>8.099500e+04</td>\n",
       "      <td>2011-12-09 12:50:00</td>\n",
       "      <td>3.897000e+04</td>\n",
       "      <td>18287.000000</td>\n",
       "    </tr>\n",
       "    <tr>\n",
       "      <th>std</th>\n",
       "      <td>1.727058e+02</td>\n",
       "      <td>NaN</td>\n",
       "      <td>1.235531e+02</td>\n",
       "      <td>1697.464450</td>\n",
       "    </tr>\n",
       "  </tbody>\n",
       "</table>\n",
       "</div>"
      ],
      "text/plain": [
       "           Quantity                    InvoiceDate         Price  \\\n",
       "count  1.067371e+06                        1067371  1.067371e+06   \n",
       "mean   9.938898e+00  2011-01-02 21:13:55.394028544  4.649388e+00   \n",
       "min   -8.099500e+04            2009-12-01 07:45:00 -5.359436e+04   \n",
       "25%    1.000000e+00            2010-07-09 09:46:00  1.250000e+00   \n",
       "50%    3.000000e+00            2010-12-07 15:28:00  2.100000e+00   \n",
       "75%    1.000000e+01            2011-07-22 10:23:00  4.150000e+00   \n",
       "max    8.099500e+04            2011-12-09 12:50:00  3.897000e+04   \n",
       "std    1.727058e+02                            NaN  1.235531e+02   \n",
       "\n",
       "         Customer ID  \n",
       "count  824364.000000  \n",
       "mean    15324.638504  \n",
       "min     12346.000000  \n",
       "25%     13975.000000  \n",
       "50%     15255.000000  \n",
       "75%     16797.000000  \n",
       "max     18287.000000  \n",
       "std      1697.464450  "
      ]
     },
     "execution_count": 4,
     "metadata": {},
     "output_type": "execute_result"
    }
   ],
   "source": [
    "retail_data.describe()"
   ]
  },
  {
   "cell_type": "code",
   "execution_count": 5,
   "id": "db7c518e",
   "metadata": {},
   "outputs": [
    {
     "name": "stdout",
     "output_type": "stream",
     "text": [
      "Duplicates: 0\n",
      "Missing values: Series([], dtype: int64)\n"
     ]
    }
   ],
   "source": [
    "#check out missing values\n",
    "missing_values = retail_data.isnull().sum()\n",
    "missing_values[missing_values > 0]\n",
    "# Drop missing values\n",
    "retail_data.dropna(inplace=True)\n",
    "# Drop duplicates\n",
    "retail_data.drop_duplicates(inplace=True)\n",
    "# Check for duplicates\n",
    "duplicates = retail_data.duplicated().sum()\n",
    "print(f\"Duplicates: {duplicates}\")\n",
    "# Check for missing values\n",
    "missing_values = retail_data.isnull().sum()\n",
    "print(f\"Missing values: {missing_values[missing_values > 0]}\")"
   ]
  },
  {
   "cell_type": "markdown",
   "id": "8912231d",
   "metadata": {},
   "source": [
    "### **문제 2: 데이터 전처리**\n",
    "\n",
    "- **`InvoiceDate`** 컬럼을 날짜 형식으로 변환하고, **`Customer ID`**에 결측치가 있는 행을 제거하세요.\n",
    "- **`Customer ID`**를 정수형으로 변환한 후, **`InvoiceDate`**를 기준으로 데이터를 정렬하세요.\n",
    "- 금액을 나타내는 새로운 컬럼 **`Total`** 을 생성하세요 (`Quantity`와 `Price`를 곱한 값)."
   ]
  },
  {
   "cell_type": "code",
   "execution_count": 6,
   "id": "a7a2ce49",
   "metadata": {},
   "outputs": [
    {
     "name": "stdout",
     "output_type": "stream",
     "text": [
      "Updated 'InvoiceDate type' and 'CustomerID' column name : \n",
      " Invoice                object\n",
      "StockCode              object\n",
      "Description            object\n",
      "Quantity                int64\n",
      "InvoiceDate    datetime64[ns]\n",
      "Price                 float64\n",
      "CustomerID            float64\n",
      "Country                object\n",
      "dtype: object\n",
      "\n",
      "Missing values in 'CustomerID': 0\n",
      "\n",
      "Updated 'CustomerID type' and new column 'Total' : \n",
      " Invoice                object\n",
      "StockCode              object\n",
      "Description            object\n",
      "Quantity                int64\n",
      "InvoiceDate    datetime64[ns]\n",
      "Price                 float64\n",
      "CustomerID              int64\n",
      "Country                object\n",
      "Total                 float64\n",
      "dtype: object\n",
      "\n",
      "Negative quantities: 18390\n",
      "Negative prices: 0\n",
      "Refunded orders: 18390\n",
      "Negative values: 18390\n"
     ]
    }
   ],
   "source": [
    "# Typecasing 'InvoiceDate' to datetime\n",
    "retail_data['InvoiceDate'] = pd.to_datetime(retail_data['InvoiceDate'], format='%Y-%m-%d %H:%M:%S')\n",
    "# update 'Customer ID' to 'CustomerID'\n",
    "retail_data.rename(columns={'Customer ID': 'CustomerID'}, inplace=True)\n",
    "# Check the data types\n",
    "print(f\"Updated 'InvoiceDate type' and 'CustomerID' column name : \\n {retail_data.dtypes}\\n\")\n",
    "\n",
    "# Check out any missing values at 'CustomerID'\n",
    "missing_values = retail_data.isnull().sum()\n",
    "print(f\"Missing values in 'CustomerID': {missing_values['CustomerID']}\\n\")\n",
    "# Remove rows with missing 'CustomerID'\n",
    "retail_data = retail_data[~retail_data['CustomerID'].isnull()]\n",
    "# Typecasting 'CustomerID' to int\n",
    "retail_data['CustomerID'] = retail_data['CustomerID'].astype(int)\n",
    "# Sort the data by 'InvoiceDate'\n",
    "retail_data.sort_values(by='InvoiceDate', inplace=True)\n",
    "# Add a new column 'Total' to calculate the total price of each order by multiplying 'Quantity' and 'Price'\n",
    "retail_data['Total'] = retail_data['Quantity'] * retail_data['Price']   \n",
    "# Check the data types\n",
    "print(f\"Updated 'CustomerID type' and new column 'Total' : \\n {retail_data.dtypes}\\n\")\n",
    "\n",
    "# Check for negative quantities \n",
    "negative_quantities = retail_data[retail_data['Quantity'] < 0]\n",
    "print(f\"Negative quantities: {len(negative_quantities)}\")\n",
    "# Check for negative prices\n",
    "negative_prices = retail_data[retail_data['Price'] < 0]\n",
    "print(f\"Negative prices: {len(negative_prices)}\")\n",
    "\n",
    "#check out any refunded orders\n",
    "refunded_orders = retail_data[retail_data['Quantity'] < 0]\n",
    "print(f\"Refunded orders: {len(refunded_orders)}\")\n",
    "\n",
    "# Check for any negative values in the 'Quantity' and 'Price' columns\n",
    "negative_values = retail_data[(retail_data['Quantity'] < 0) | (retail_data['Price'] < 0)]\n",
    "print(f\"Negative values: {len(negative_values)}\")"
   ]
  },
  {
   "cell_type": "markdown",
   "id": "6e460a61",
   "metadata": {},
   "source": [
    "### **문제 3: 나라별 구매 인원 시각화**\n",
    "\n",
    "- **`Country`** 컬럼을 기준으로 **`Customer ID`**의 유니크한 값을 계산하여 나라별 구매 고객 수를 시각화 해보세요"
   ]
  },
  {
   "cell_type": "code",
   "execution_count": 7,
   "id": "39e4c820",
   "metadata": {},
   "outputs": [
    {
     "name": "stdout",
     "output_type": "stream",
     "text": [
      "Unique customers per country: \n",
      "Country\n",
      "United Kingdom          5410\n",
      "Germany                  107\n",
      "France                    95\n",
      "Spain                     41\n",
      "Belgium                   29\n",
      "Portugal                  24\n",
      "Netherlands               23\n",
      "Switzerland               22\n",
      "Sweden                    19\n",
      "Italy                     17\n",
      "Finland                   15\n",
      "Australia                 15\n",
      "Channel Islands           14\n",
      "Norway                    13\n",
      "Austria                   13\n",
      "Denmark                   12\n",
      "Cyprus                    11\n",
      "Japan                     10\n",
      "USA                        9\n",
      "Unspecified                7\n",
      "Poland                     6\n",
      "Greece                     5\n",
      "EIRE                       5\n",
      "Canada                     5\n",
      "Israel                     4\n",
      "United Arab Emirates       4\n",
      "Malta                      2\n",
      "Bahrain                    2\n",
      "Brazil                     2\n",
      "RSA                        2\n",
      "Korea                      2\n",
      "Czech Republic             1\n",
      "Iceland                    1\n",
      "Lebanon                    1\n",
      "Lithuania                  1\n",
      "European Community         1\n",
      "Nigeria                    1\n",
      "Singapore                  1\n",
      "Saudi Arabia               1\n",
      "Thailand                   1\n",
      "West Indies                1\n",
      "Name: CustomerID, dtype: int64\n",
      "\n"
     ]
    },
    {
     "data": {
      "image/png": "[encoded data removed]",
      "text/plain": [
       "<Figure size 1200x600 with 1 Axes>"
      ]
     },
     "metadata": {},
     "output_type": "display_data"
    }
   ],
   "source": [
    "unique_customers = retail_data.groupby('Country')['CustomerID'].nunique().sort_values(ascending=False)     \n",
    "print(f\"Unique customers per country: \\n{unique_customers}\\n\")\n",
    "plt.figure(figsize=(12, 6))\n",
    "sns.barplot(x=unique_customers.index[:10], y=unique_customers.values[:10], palette='viridis')\n",
    "for i, v in enumerate(unique_customers.values[:10]):\n",
    "    plt.text(i, v + 10, str(v), ha='center', va='bottom', fontsize=10)\n",
    "plt.xlabel('Country')\n",
    "plt.ylabel('Unique Customers')\n",
    "plt.title('Unique Customers per Country / Top 10')\n",
    "plt.xticks(rotation=45)\n",
    "plt.tight_layout()  \n",
    "plt.show()\n"
   ]
  },
  {
   "cell_type": "markdown",
   "id": "38c62472",
   "metadata": {},
   "source": [
    "### **문제 4: Acquisition (고객 유입 분석)**\n",
    "\n",
    "- 신규 고객 분석을 위해 고객의 **첫 구매 시점**을 기준으로 월별 신규 유입 고객 수를 계산하세요.\n",
    "- 각 고객의 첫 구매 날짜를 추출하고, **월별 신규 고객 수**를 시각화하세요."
   ]
  },
  {
   "cell_type": "code",
   "execution_count": 8,
   "id": "869141f3",
   "metadata": {},
   "outputs": [
    {
     "name": "stdout",
     "output_type": "stream",
     "text": [
      "<bound method NDFrame.head of         Invoice StockCode                          Description  Quantity  \\\n",
      "0        489434     85048  15CM CHRISTMAS GLASS BALL 20 LIGHTS        12   \n",
      "1        489434    79323P                   PINK CHERRY LIGHTS        12   \n",
      "2        489434    79323W                  WHITE CHERRY LIGHTS        12   \n",
      "3        489434     22041         RECORD FRAME 7\" SINGLE SIZE         48   \n",
      "4        489434     21232       STRAWBERRY CERAMIC TRINKET BOX        24   \n",
      "...         ...       ...                                  ...       ...   \n",
      "1067357  581587     22555            PLASTERS IN TIN STRONGMAN        12   \n",
      "1067356  581587     22556       PLASTERS IN TIN CIRCUS PARADE         12   \n",
      "1067355  581587     22631             CIRCUS PARADE LUNCH BOX         12   \n",
      "1067361  581587     22730           ALARM CLOCK BAKELIKE IVORY         4   \n",
      "1067370  581587      POST                              POSTAGE         1   \n",
      "\n",
      "                InvoiceDate  Price  CustomerID         Country  Total  \n",
      "0       2009-12-01 07:45:00   6.95       13085  United Kingdom   83.4  \n",
      "1       2009-12-01 07:45:00   6.75       13085  United Kingdom   81.0  \n",
      "2       2009-12-01 07:45:00   6.75       13085  United Kingdom   81.0  \n",
      "3       2009-12-01 07:45:00   2.10       13085  United Kingdom  100.8  \n",
      "4       2009-12-01 07:45:00   1.25       13085  United Kingdom   30.0  \n",
      "...                     ...    ...         ...             ...    ...  \n",
      "1067357 2011-12-09 12:50:00   1.65       12680          France   19.8  \n",
      "1067356 2011-12-09 12:50:00   1.65       12680          France   19.8  \n",
      "1067355 2011-12-09 12:50:00   1.95       12680          France   23.4  \n",
      "1067361 2011-12-09 12:50:00   3.75       12680          France   15.0  \n",
      "1067370 2011-12-09 12:50:00  18.00       12680          France   18.0  \n",
      "\n",
      "[797885 rows x 9 columns]>\n"
     ]
    }
   ],
   "source": [
    "print(retail_data.head)"
   ]
  },
  {
   "cell_type": "code",
   "execution_count": 9,
   "id": "ae0fb4c8",
   "metadata": {},
   "outputs": [
    {
     "data": {
      "text/html": [
       "<div>\n",
       "<style scoped>\n",
       "    .dataframe tbody tr th:only-of-type {\n",
       "        vertical-align: middle;\n",
       "    }\n",
       "\n",
       "    .dataframe tbody tr th {\n",
       "        vertical-align: top;\n",
       "    }\n",
       "\n",
       "    .dataframe thead th {\n",
       "        text-align: right;\n",
       "    }\n",
       "</style>\n",
       "<table border=\"1\" class=\"dataframe\">\n",
       "  <thead>\n",
       "    <tr style=\"text-align: right;\">\n",
       "      <th></th>\n",
       "      <th>Quantity</th>\n",
       "      <th>InvoiceDate</th>\n",
       "      <th>Price</th>\n",
       "      <th>CustomerID</th>\n",
       "      <th>Total</th>\n",
       "    </tr>\n",
       "  </thead>\n",
       "  <tbody>\n",
       "    <tr>\n",
       "      <th>count</th>\n",
       "      <td>797885.000000</td>\n",
       "      <td>797885</td>\n",
       "      <td>797885.000000</td>\n",
       "      <td>797885.000000</td>\n",
       "      <td>797885.000000</td>\n",
       "    </tr>\n",
       "    <tr>\n",
       "      <th>mean</th>\n",
       "      <td>12.602980</td>\n",
       "      <td>2011-01-02 13:17:34.141160704</td>\n",
       "      <td>3.702732</td>\n",
       "      <td>15313.062777</td>\n",
       "      <td>20.416465</td>\n",
       "    </tr>\n",
       "    <tr>\n",
       "      <th>min</th>\n",
       "      <td>-80995.000000</td>\n",
       "      <td>2009-12-01 07:45:00</td>\n",
       "      <td>0.000000</td>\n",
       "      <td>12346.000000</td>\n",
       "      <td>-168469.600000</td>\n",
       "    </tr>\n",
       "    <tr>\n",
       "      <th>25%</th>\n",
       "      <td>2.000000</td>\n",
       "      <td>2010-07-02 09:47:00</td>\n",
       "      <td>1.250000</td>\n",
       "      <td>13964.000000</td>\n",
       "      <td>4.350000</td>\n",
       "    </tr>\n",
       "    <tr>\n",
       "      <th>50%</th>\n",
       "      <td>5.000000</td>\n",
       "      <td>2010-12-02 12:33:00</td>\n",
       "      <td>1.950000</td>\n",
       "      <td>15228.000000</td>\n",
       "      <td>11.700000</td>\n",
       "    </tr>\n",
       "    <tr>\n",
       "      <th>75%</th>\n",
       "      <td>12.000000</td>\n",
       "      <td>2011-07-31 15:50:00</td>\n",
       "      <td>3.750000</td>\n",
       "      <td>16788.000000</td>\n",
       "      <td>19.500000</td>\n",
       "    </tr>\n",
       "    <tr>\n",
       "      <th>max</th>\n",
       "      <td>80995.000000</td>\n",
       "      <td>2011-12-09 12:50:00</td>\n",
       "      <td>38970.000000</td>\n",
       "      <td>18287.000000</td>\n",
       "      <td>168469.600000</td>\n",
       "    </tr>\n",
       "    <tr>\n",
       "      <th>std</th>\n",
       "      <td>191.670371</td>\n",
       "      <td>NaN</td>\n",
       "      <td>71.392549</td>\n",
       "      <td>1696.466663</td>\n",
       "      <td>313.518824</td>\n",
       "    </tr>\n",
       "  </tbody>\n",
       "</table>\n",
       "</div>"
      ],
      "text/plain": [
       "            Quantity                    InvoiceDate          Price  \\\n",
       "count  797885.000000                         797885  797885.000000   \n",
       "mean       12.602980  2011-01-02 13:17:34.141160704       3.702732   \n",
       "min    -80995.000000            2009-12-01 07:45:00       0.000000   \n",
       "25%         2.000000            2010-07-02 09:47:00       1.250000   \n",
       "50%         5.000000            2010-12-02 12:33:00       1.950000   \n",
       "75%        12.000000            2011-07-31 15:50:00       3.750000   \n",
       "max     80995.000000            2011-12-09 12:50:00   38970.000000   \n",
       "std       191.670371                            NaN      71.392549   \n",
       "\n",
       "          CustomerID          Total  \n",
       "count  797885.000000  797885.000000  \n",
       "mean    15313.062777      20.416465  \n",
       "min     12346.000000 -168469.600000  \n",
       "25%     13964.000000       4.350000  \n",
       "50%     15228.000000      11.700000  \n",
       "75%     16788.000000      19.500000  \n",
       "max     18287.000000  168469.600000  \n",
       "std      1696.466663     313.518824  "
      ]
     },
     "execution_count": 9,
     "metadata": {},
     "output_type": "execute_result"
    }
   ],
   "source": [
    "retail_data.describe()"
   ]
  },
  {
   "cell_type": "code",
   "execution_count": 10,
   "id": "90d978ce",
   "metadata": {},
   "outputs": [
    {
     "data": {
      "text/plain": [
       "<bound method NDFrame.head of 0         2009-12-01 07:45:00\n",
       "1         2009-12-01 07:45:00\n",
       "2         2009-12-01 07:45:00\n",
       "3         2009-12-01 07:45:00\n",
       "4         2009-12-01 07:45:00\n",
       "                  ...        \n",
       "1067357   2011-12-09 12:50:00\n",
       "1067356   2011-12-09 12:50:00\n",
       "1067355   2011-12-09 12:50:00\n",
       "1067361   2011-12-09 12:50:00\n",
       "1067370   2011-12-09 12:50:00\n",
       "Name: InvoiceDate, Length: 797885, dtype: datetime64[ns]>"
      ]
     },
     "execution_count": 10,
     "metadata": {},
     "output_type": "execute_result"
    }
   ],
   "source": [
    "retail_data['InvoiceDate'].head"
   ]
  },
  {
   "cell_type": "code",
   "execution_count": 11,
   "id": "b56bd6e0",
   "metadata": {},
   "outputs": [
    {
     "data": {
      "text/plain": [
       "<bound method NDFrame.head of 0          2009-12\n",
       "1          2009-12\n",
       "2          2009-12\n",
       "3          2009-12\n",
       "4          2009-12\n",
       "            ...   \n",
       "1067357    2011-12\n",
       "1067356    2011-12\n",
       "1067355    2011-12\n",
       "1067361    2011-12\n",
       "1067370    2011-12\n",
       "Name: InvoiceMonth, Length: 797885, dtype: period[M]>"
      ]
     },
     "execution_count": 11,
     "metadata": {},
     "output_type": "execute_result"
    }
   ],
   "source": [
    "# to check out new customers, calcurate them by their first purchase date per month\n",
    "retail_data['InvoiceMonth'] = retail_data['InvoiceDate'].dt.to_period('M')\n",
    "retail_data['InvoiceMonth'].head"
   ]
  },
  {
   "cell_type": "code",
   "execution_count": 12,
   "id": "b12f0d7e",
   "metadata": {},
   "outputs": [
    {
     "name": "stdout",
     "output_type": "stream",
     "text": [
      "  InvoiceMonth  CustomerID   FirstPurchaseDate\n",
      "0      2009-12       12346 2009-12-14 08:34:00\n",
      "1      2009-12       12349 2009-12-04 12:49:00\n",
      "2      2009-12       12358 2009-12-08 07:59:00\n",
      "3      2009-12       12359 2009-12-05 13:32:00\n",
      "4      2009-12       12362 2009-12-01 10:10:00\n"
     ]
    }
   ],
   "source": [
    "# Group by 'InvoiceMonth' and 'CustomerID' to get the first purchase date\n",
    "first_purchase = retail_data.groupby(['InvoiceMonth', 'CustomerID']).agg({'InvoiceDate': 'min'}).reset_index()\n",
    "# Rename the columns\n",
    "first_purchase.rename(columns={'InvoiceDate': 'FirstPurchaseDate'}, inplace=True)\n",
    "print(first_purchase.head())"
   ]
  },
  {
   "cell_type": "code",
   "execution_count": 13,
   "id": "afef789e",
   "metadata": {},
   "outputs": [
    {
     "name": "stdout",
     "output_type": "stream",
     "text": [
      "  Invoice StockCode                          Description  Quantity  \\\n",
      "0  489434     85048  15CM CHRISTMAS GLASS BALL 20 LIGHTS        12   \n",
      "1  489434    79323P                   PINK CHERRY LIGHTS        12   \n",
      "2  489434    79323W                  WHITE CHERRY LIGHTS        12   \n",
      "3  489434     22041         RECORD FRAME 7\" SINGLE SIZE         48   \n",
      "4  489434     21232       STRAWBERRY CERAMIC TRINKET BOX        24   \n",
      "\n",
      "          InvoiceDate  Price  CustomerID         Country  Total InvoiceMonth  \\\n",
      "0 2009-12-01 07:45:00   6.95       13085  United Kingdom   83.4      2009-12   \n",
      "1 2009-12-01 07:45:00   6.75       13085  United Kingdom   81.0      2009-12   \n",
      "2 2009-12-01 07:45:00   6.75       13085  United Kingdom   81.0      2009-12   \n",
      "3 2009-12-01 07:45:00   2.10       13085  United Kingdom  100.8      2009-12   \n",
      "4 2009-12-01 07:45:00   1.25       13085  United Kingdom   30.0      2009-12   \n",
      "\n",
      "    FirstPurchaseDate  \n",
      "0 2009-12-01 07:45:00  \n",
      "1 2009-12-01 07:45:00  \n",
      "2 2009-12-01 07:45:00  \n",
      "3 2009-12-01 07:45:00  \n",
      "4 2009-12-01 07:45:00  \n"
     ]
    }
   ],
   "source": [
    "print((pd.merge(retail_data, first_purchase, on=['InvoiceMonth', 'CustomerID'], how='left')).head())\n",
    "# Merge the first purchase data with the original data\n",
    "retail_data = pd.merge(retail_data, first_purchase, on=['InvoiceMonth', 'CustomerID'], how='left')"
   ]
  },
  {
   "cell_type": "code",
   "execution_count": 14,
   "id": "b6bfe526",
   "metadata": {},
   "outputs": [],
   "source": [
    "retail_data[retail_data['InvoiceDate'] == retail_data['FirstPurchaseDate']].head()\n",
    "# Calculate the number of new customers per month\n",
    "new_customers = retail_data[retail_data['InvoiceDate'] == retail_data['FirstPurchaseDate']]\n"
   ]
  },
  {
   "cell_type": "code",
   "execution_count": 15,
   "id": "cce5dba9",
   "metadata": {},
   "outputs": [
    {
     "name": "stdout",
     "output_type": "stream",
     "text": [
      "<class 'pandas.core.frame.DataFrame'>\n",
      "Index: 563504 entries, 0 to 797884\n",
      "Data columns (total 11 columns):\n",
      " #   Column             Non-Null Count   Dtype         \n",
      "---  ------             --------------   -----         \n",
      " 0   Invoice            563504 non-null  object        \n",
      " 1   StockCode          563504 non-null  object        \n",
      " 2   Description        563504 non-null  object        \n",
      " 3   Quantity           563504 non-null  int64         \n",
      " 4   InvoiceDate        563504 non-null  datetime64[ns]\n",
      " 5   Price              563504 non-null  float64       \n",
      " 6   CustomerID         563504 non-null  int64         \n",
      " 7   Country            563504 non-null  object        \n",
      " 8   Total              563504 non-null  float64       \n",
      " 9   InvoiceMonth       563504 non-null  period[M]     \n",
      " 10  FirstPurchaseDate  563504 non-null  datetime64[ns]\n",
      "dtypes: datetime64[ns](2), float64(2), int64(2), object(4), period[M](1)\n",
      "memory usage: 51.6+ MB\n"
     ]
    }
   ],
   "source": [
    "new_customers.info()\n"
   ]
  },
  {
   "cell_type": "code",
   "execution_count": 16,
   "id": "f0dbf283",
   "metadata": {},
   "outputs": [
    {
     "name": "stdout",
     "output_type": "stream",
     "text": [
      "<class 'pandas.core.frame.DataFrame'>\n",
      "Index: 563504 entries, 0 to 797884\n",
      "Data columns (total 11 columns):\n",
      " #   Column             Non-Null Count   Dtype         \n",
      "---  ------             --------------   -----         \n",
      " 0   Invoice            563504 non-null  object        \n",
      " 1   StockCode          563504 non-null  object        \n",
      " 2   Description        563504 non-null  object        \n",
      " 3   Quantity           563504 non-null  int64         \n",
      " 4   InvoiceDate        563504 non-null  datetime64[ns]\n",
      " 5   Price              563504 non-null  float64       \n",
      " 6   CustomerID         563504 non-null  int64         \n",
      " 7   Country            563504 non-null  object        \n",
      " 8   Total              563504 non-null  float64       \n",
      " 9   InvoiceMonth       563504 non-null  datetime64[ns]\n",
      " 10  FirstPurchaseDate  563504 non-null  datetime64[ns]\n",
      "dtypes: datetime64[ns](3), float64(2), int64(2), object(4)\n",
      "memory usage: 51.6+ MB\n",
      "None\n"
     ]
    }
   ],
   "source": [
    "# Convert 'InvoiceMonth' to datetime if it's not already in datetime format\n",
    "if not pd.api.types.is_datetime64_any_dtype(new_customers['InvoiceMonth']):\n",
    "\tnew_customers['InvoiceMonth'] = new_customers['InvoiceMonth'].dt.to_timestamp()\n",
    "print(new_customers.info())"
   ]
  },
  {
   "cell_type": "code",
   "execution_count": 17,
   "id": "ba2eb8f4",
   "metadata": {},
   "outputs": [
    {
     "name": "stdout",
     "output_type": "stream",
     "text": [
      "   InvoiceMonth  CustomerID\n",
      "0    2009-12-01        1045\n",
      "1    2010-01-01         786\n",
      "2    2010-02-01         807\n",
      "3    2010-03-01        1111\n",
      "4    2010-04-01         998\n",
      "5    2010-05-01        1062\n",
      "6    2010-06-01        1095\n",
      "7    2010-07-01         988\n",
      "8    2010-08-01         964\n",
      "9    2010-09-01        1202\n",
      "10   2010-10-01        1577\n",
      "11   2010-11-01        1683\n",
      "12   2010-12-01         948\n",
      "13   2011-01-01         783\n",
      "14   2011-02-01         798\n",
      "15   2011-03-01        1020\n",
      "16   2011-04-01         899\n",
      "17   2011-05-01        1079\n",
      "18   2011-06-01        1051\n",
      "19   2011-07-01         993\n",
      "20   2011-08-01         980\n",
      "21   2011-09-01        1302\n",
      "22   2011-10-01        1425\n",
      "23   2011-11-01        1711\n",
      "24   2011-12-01         686\n",
      "New customers count: \n",
      "  InvoiceMonth  NewCustomers\n",
      "0   2009-12-01          1045\n",
      "1   2010-01-01           786\n",
      "2   2010-02-01           807\n",
      "3   2010-03-01          1111\n",
      "4   2010-04-01           998\n",
      "\n"
     ]
    },
    {
     "data": {
      "image/png": "[encoded data removed]",
      "text/plain": [
       "<Figure size 1200x600 with 1 Axes>"
      ]
     },
     "metadata": {},
     "output_type": "display_data"
    }
   ],
   "source": [
    "print(new_customers.groupby('InvoiceMonth')['CustomerID'].nunique().reset_index())\n",
    "# Group by 'InvoiceMonth' to get the number of new customers\n",
    "new_customers_count = new_customers.groupby('InvoiceMonth')['CustomerID'].nunique().reset_index().sort_values(by='InvoiceMonth')\n",
    "# Rename the columns\n",
    "new_customers_count.rename(columns={'CustomerID': 'NewCustomers'}, inplace=True)\n",
    "print(f\"New customers count: \\n{new_customers_count.head()}\\n\")\n",
    "# Plot the number of new customers per month\n",
    "plt.figure(figsize=(12, 6))\n",
    "sns.barplot(x='InvoiceMonth', y='NewCustomers', data=new_customers_count, palette='viridis')\n",
    "plt.title('Number of New Customers per Month')\n",
    "plt.xlabel('Month')\n",
    "plt.ylabel('Number of New Customers')\n",
    "plt.xticks(rotation=45)\n",
    "plt.tight_layout()\n",
    "plt.show()  "
   ]
  },
  {
   "cell_type": "markdown",
   "id": "3a5bd2ff",
   "metadata": {},
   "source": [
    "### **문제 5: Activation (고객 활성화 분석)**\n",
    "\n",
    "- 모든 고객 중 첫 구매 이후 **총 구매 금액이 특정 기준 금액 (£50)** 이상인 고객을 활성화된 고객으로 정의합니다.\n",
    "- 전체 고객 수와 활성화된 고객 수를 비교하여 **활성화율**을 도출하세요."
   ]
  },
  {
   "cell_type": "code",
   "execution_count": 18,
   "id": "ebf02389",
   "metadata": {},
   "outputs": [
    {
     "name": "stdout",
     "output_type": "stream",
     "text": [
      "Total spent by customers: \n",
      "   CustomerID  TotalSpent\n",
      "0       12346      -51.74\n",
      "1       12347     4921.53\n",
      "2       12348     2019.40\n",
      "3       12349     4404.54\n",
      "4       12350      334.40\n",
      "\n",
      "Percentage of activated customers: 97.17%\n"
     ]
    }
   ],
   "source": [
    "# get a group of customers who purchased more than 50 dollars since their first purchase\n",
    "# Group by 'CustomerID' to get the total amount spent by each customer\n",
    "total_spent = retail_data.groupby('CustomerID')['Total'].sum().reset_index()\n",
    "# Rename the columns\n",
    "total_spent.rename(columns={'Total': 'TotalSpent'}, inplace=True)\n",
    "activated = total_spent[total_spent['TotalSpent'] > 50]\n",
    "print(f\"Total spent by customers: \\n{total_spent.head()}\\n\")\n",
    "activated_pct = activated['CustomerID'].nunique()/total_spent['CustomerID'].nunique()\n",
    "print(f\"Percentage of activated customers: {activated_pct:.2%}\")"
   ]
  },
  {
   "cell_type": "code",
   "execution_count": 19,
   "id": "5abfbf6e",
   "metadata": {},
   "outputs": [
    {
     "name": "stdout",
     "output_type": "stream",
     "text": [
      "Number of total customers: 5942\n",
      "Number of activated customers: 5774\n"
     ]
    }
   ],
   "source": [
    "print(f\"Number of total customers: {retail_data['CustomerID'].nunique()}\")\n",
    "print(f\"Number of activated customers: {activated['CustomerID'].nunique()}\")"
   ]
  },
  {
   "cell_type": "markdown",
   "id": "0740608e",
   "metadata": {},
   "source": [
    "### **문제 6: Retention:코호트 분석(고객)**\n",
    "\n",
    "- 분기별 활성 사용자(MAU)를 분석하여 고객 유지 현황을 파악하세요.\n",
    "- 분기별 활성 고객 수를 계산하고, 이를 시각화하여 **고객 유지 트렌드**를 분석하세요."
   ]
  },
  {
   "cell_type": "code",
   "execution_count": null,
   "id": "9d4f3921",
   "metadata": {},
   "outputs": [
    {
     "name": "stdout",
     "output_type": "stream",
     "text": [
      "MAR per quarter: \n",
      "  InvoiceQuarter  UniqueCustomers\n",
      "0     2009-10-01             1045\n",
      "1     2010-01-01             1866\n",
      "2     2010-04-01             2112\n",
      "3     2010-07-01             2099\n",
      "4     2010-10-01             2729\n",
      "\n"
     ]
    },
    {
     "data": {
      "image/png": "[encoded data removed]",
      "text/plain": [
       "<Figure size 1200x600 with 1 Axes>"
      ]
     },
     "metadata": {},
     "output_type": "display_data"
    }
   ],
   "source": [
    "# check out MAR per quarter\n",
    "retail_data['InvoiceQuarter'] = retail_data['InvoiceDate'].dt.to_period('Q')\n",
    "# Group by 'InvoiceQuarter' to get the number of unique customers\n",
    "mar_per_quarter = retail_data.groupby('InvoiceQuarter')['CustomerID'].nunique().reset_index()\n",
    "# Rename the columns\n",
    "mar_per_quarter.rename(columns={'CustomerID': 'UniqueCustomers'}, inplace=True)\n",
    "# Convert 'InvoiceQuarter' to datetime using the start_time attribute\n",
    "mar_per_quarter['InvoiceQuarter'] = mar_per_quarter['InvoiceQuarter'].dt.start_time\n",
    "print(f\"MAR per quarter: \\n{mar_per_quarter.head()}\\n\")\n",
    "\n",
    "#히트맵 코드\n",
    "heatmap = sns.heatmap(\n",
    "    data=mar_per_quarter, \n",
    "    annot=True,                # 셀 내부에 값 표시\n",
    "    fmt='.2f',                 # 텍스트 형식 (소수점 2자리)\n",
    "    cmap='Greens',             # 색상 팔레트\n",
    "    cbar_kws={'label': 'Retention Rate, %'},  # 컬러바 제\n",
    "    linewidths=0.5,            # 셀 간격\n",
    "    linecolor='gray',          # 셀 경계 색상\n",
    "    vmin=0, vmax=100           # Retention Rate의 범위 설정\n",
    ")"
   ]
  }
 ],
 "metadata": {
  "kernelspec": {
   "display_name": "moduenv",
   "language": "python",
   "name": "python3"
  },
  "language_info": {
   "codemirror_mode": {
    "name": "ipython",
    "version": 3
   },
   "file_extension": ".py",
   "mimetype": "text/x-python",
   "name": "python",
   "nbconvert_exporter": "python",
   "pygments_lexer": "ipython3",
   "version": "3.12.9"
  }
 },
 "nbformat": 4,
 "nbformat_minor": 5
}
